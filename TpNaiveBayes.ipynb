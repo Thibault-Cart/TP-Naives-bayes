{
 "cells": [
  {
   "cell_type": "code",
   "execution_count": 3,
   "id": "ee21e324",
   "metadata": {
    "vscode": {
     "languageId": "r"
    }
   },
   "outputs": [
    {
     "name": "stdout",
     "output_type": "stream",
     "text": [
      "\n",
      "  Une version binaire est disponible mais la version du source est plus\n",
      "  récente:\n",
      "      binary source needs_compilation\n",
      "e1071 1.7-13 1.7-16              TRUE\n",
      "\n",
      "  Binaries will be installed\n",
      "package 'e1071' successfully unpacked and MD5 sums checked\n",
      "\n",
      "The downloaded binary packages are in\n",
      "\tC:\\Users\\thiba\\AppData\\Local\\Temp\\RtmpwBSp5S\\downloaded_packages\n"
     ]
    },
    {
     "name": "stderr",
     "output_type": "stream",
     "text": [
      "Warning message:\n",
      "\"le package 'e1071' a été compilé avec la version R 4.1.3\"\n"
     ]
    }
   ],
   "source": [
    "install.packages(\"e1071\")\n",
    "library(e1071)\n"
   ]
  },
  {
   "cell_type": "code",
   "execution_count": null,
   "id": "95a9378b",
   "metadata": {
    "vscode": {
     "languageId": "r"
    }
   },
   "outputs": [],
   "source": [
    "#read data\n",
    "myData<- read.table(\"data/iris.csv\",header=T,sep=\",\")\n",
    "#create the training dataset\n",
    "#get 50% of the data for training\n",
    "trainIndex <- sample(1:dim(myData)[1],size=0.5*dim(myData)[1])\n",
    "trainData <- myData[trainIndex,]\n",
    "#Train a Naive Bayes on myData.\n",
    "#The parameter:\n",
    "# formula=type.~.\n",
    "#sets the target/class variable to be the type.\n",
    "#and use as predictive variables all the others\n",
    "nb<-naiveBayes(formula=type~.,data=trainData)\n"
   ]
  }
 ],
 "metadata": {
  "kernelspec": {
   "display_name": "R",
   "language": "R",
   "name": "ir"
  },
  "language_info": {
   "codemirror_mode": "r",
   "file_extension": ".r",
   "mimetype": "text/x-r-source",
   "name": "R",
   "pygments_lexer": "r",
   "version": "4.1.2"
  }
 },
 "nbformat": 4,
 "nbformat_minor": 5
}
