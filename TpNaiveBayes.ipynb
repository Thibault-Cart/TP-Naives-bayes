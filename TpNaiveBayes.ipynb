{
 "cells": [
  {
   "cell_type": "code",
   "execution_count": 23,
   "id": "ee21e324",
   "metadata": {
    "vscode": {
     "languageId": "r"
    }
   },
   "outputs": [
    {
     "name": "stderr",
     "output_type": "stream",
     "text": [
      "Warning message:\n",
      "\"le package 'e1071' est en cours d'utilisation et ne sera pas installé\"\n"
     ]
    }
   ],
   "source": [
    "install.packages(\"e1071\")\n",
    "\n",
    "library(e1071)\n"
   ]
  },
  {
   "cell_type": "markdown",
   "id": "570b9244",
   "metadata": {},
   "source": [
    "## charger les datas"
   ]
  },
  {
   "cell_type": "code",
   "execution_count": 24,
   "id": "b4ee6b77",
   "metadata": {
    "vscode": {
     "languageId": "r"
    }
   },
   "outputs": [
    {
     "name": "stdout",
     "output_type": "stream",
     "text": [
      "'data.frame':\t32561 obs. of  15 variables:\n",
      " $ age           : num  39 50 38 53 28 37 49 52 31 42 ...\n",
      " $ workclass     : Factor w/ 9 levels \" ?\",\" Federal-gov\",..: 8 7 5 5 5 5 5 7 5 5 ...\n",
      " $ fnlwgt        : num  77516 83311 215646 234721 338409 ...\n",
      " $ education     : Factor w/ 16 levels \" 10th\",\" 11th\",..: 10 10 12 2 10 13 7 12 13 10 ...\n",
      " $ education.num : num  13 13 9 7 13 14 5 9 14 13 ...\n",
      " $ marital.status: Factor w/ 7 levels \" Divorced\",\" Married-AF-spouse\",..: 5 3 1 3 3 3 4 3 5 3 ...\n",
      " $ occupation    : Factor w/ 15 levels \" ?\",\" Adm-clerical\",..: 2 5 7 7 11 5 9 5 11 5 ...\n",
      " $ relationship  : Factor w/ 6 levels \" Husband\",\" Not-in-family\",..: 2 1 2 1 6 6 2 1 2 1 ...\n",
      " $ race          : Factor w/ 5 levels \" Amer-Indian-Eskimo\",..: 5 5 5 3 3 5 3 5 5 5 ...\n",
      " $ sex           : Factor w/ 2 levels \" Female\",\" Male\": 2 2 2 2 1 1 1 2 1 2 ...\n",
      " $ capital.gain  : num  2174 0 0 0 0 ...\n",
      " $ capital.loss  : num  0 0 0 0 0 0 0 0 0 0 ...\n",
      " $ hours.per.week: num  40 13 40 40 40 40 16 45 50 40 ...\n",
      " $ native.country: Factor w/ 42 levels \" ?\",\" Cambodia\",..: 40 40 40 40 6 40 24 40 40 40 ...\n",
      " $ income        : Factor w/ 2 levels \"<=50K\",\">50K\": 1 1 1 1 1 1 1 2 2 2 ...\n"
     ]
    }
   ],
   "source": [
    "myData <- read.table(\"adult.csv\", header = TRUE, sep = \",\",\n",
    "                     colClasses = c(\"numeric\", \"factor\", \"numeric\", \"factor\", \"numeric\", \n",
    "                                    \"factor\", \"factor\", \"factor\", \"factor\", \"factor\", \n",
    "                                    \"numeric\", \"numeric\", \"numeric\", \"factor\", \"factor\"))\n",
    "str(myData)"
   ]
  },
  {
   "cell_type": "code",
   "execution_count": 25,
   "id": "e50eaca4",
   "metadata": {
    "vscode": {
     "languageId": "r"
    }
   },
   "outputs": [],
   "source": [
    "calcule_tbc <- function(data, target_var = \"type\") {\n",
    "  # Création du vecteur pour stocker les TBC\n",
    "  tbc_list <- c()\n",
    "  \n",
    "  # Fixer la seed pour obtenir des résultats reproductibles\n",
    "  set.seed(123)\n",
    "  \n",
    "  # Répéter l'expérience 5 fois\n",
    "  for (i in 1:5) {\n",
    "    \n",
    "    # Mélange aléatoire des lignes du dataset\n",
    "    indices <- sample(1:nrow(data))\n",
    "    data_shuffled <- data[indices, ]\n",
    "    \n",
    "    # Séparation : 2/3 pour l'entraînement, 1/3 pour le test\n",
    "    n <- nrow(data_shuffled)\n",
    "    train_size <- floor(2/3 * n)\n",
    "    train_data <- data_shuffled[1:train_size, ]\n",
    "    test_data <- data_shuffled[(train_size + 1):n, ]\n",
    "    \n",
    "    # Création dynamique de la formule en fonction du nom de la variable cible\n",
    "    formula <- as.formula(paste(target_var, \"~ .\"))\n",
    "    \n",
    "    # Apprentissage du modèle Naive Bayes\n",
    "    model <- naiveBayes(formula, data = train_data)\n",
    "    \n",
    "    # Prédictions sur les données de test\n",
    "    predictions <- predict(model, test_data)\n",
    "    \n",
    "    # Calcul du TBC = nombre de bonnes prédictions / nombre total\n",
    "    bonnes_reponses <- sum(predictions == test_data[[target_var]])\n",
    "    tbc <- bonnes_reponses / nrow(test_data)\n",
    "    \n",
    "    # Ajout du TBC au vecteur\n",
    "    tbc_list <- c(tbc_list, tbc)\n",
    "  }\n",
    "  \n",
    "  # Calcul de la moyenne des TBC\n",
    "  mean_tbc <- mean(tbc_list)\n",
    "  \n",
    "  # Récupération de la classe majoritaire\n",
    "  classe_maj <- names(sort(table(data[[target_var]]), decreasing = TRUE))[1]\n",
    "  \n",
    "  # Calcul du taux d'apparition de la classe majoritaire\n",
    "  taux_maj <- max(table(data[[target_var]])) / nrow(data)\n",
    "  \n",
    "  # Affichage des résultats\n",
    "  cat(\"Classe majoritaire :\", classe_maj, \"\\n\")\n",
    "  cat(\"TBC moyen sur 5 essais :\", round(mean_tbc, 4), \"\\n\")\n",
    "  cat(\"Taux de la classe majoritaire :\", round(taux_maj, 4), \"\\n\")\n",
    "  \n",
    "  # Comparaison entre le modèle et la prédiction naïve\n",
    "  if (mean_tbc > taux_maj) {\n",
    "    cat(\"Le modèle Naive Bayes fait mieux que la classe majoritaire.\\n\")\n",
    "    cat(\"-> NB a une performance acceptable.\\n\")\n",
    "  } else {\n",
    "    cat(\"Le modèle Naive Bayes ne fait pas mieux que la classe majoritaire.\\n\")\n",
    "    cat(\"-> NB n'a pas une performance acceptable dans ce cas.\\n\")\n",
    "  }\n",
    "}\n"
   ]
  },
  {
   "cell_type": "code",
   "execution_count": 27,
   "metadata": {
    "vscode": {
     "languageId": "r"
    }
   },
   "outputs": [
    {
     "name": "stdout",
     "output_type": "stream",
     "text": [
      "Classe majoritaire : <=50K \n",
      "TBC moyen sur 5 essais : 0.8293 \n",
      "Taux de la classe majoritaire : 0.7592 \n",
      "Le modèle Naive Bayes fait mieux que la classe majoritaire.\n",
      "-> NB a une performance acceptable.\n"
     ]
    }
   ],
   "source": [
    "\n",
    "calcule_tbc(myData, target_var = \"income\")\n"
   ]
  }
 ],
 "metadata": {
  "kernelspec": {
   "display_name": "R",
   "language": "R",
   "name": "ir"
  },
  "language_info": {
   "codemirror_mode": "r",
   "file_extension": ".r",
   "mimetype": "text/x-r-source",
   "name": "R",
   "pygments_lexer": "r",
   "version": "4.4.2"
  }
 },
 "nbformat": 4,
 "nbformat_minor": 5
}
